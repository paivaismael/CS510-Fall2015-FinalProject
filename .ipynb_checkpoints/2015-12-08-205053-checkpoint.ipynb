{
 "cells": [
  {
   "cell_type": "code",
   "execution_count": null,
   "metadata": {
    "collapsed": false
   },
   "outputs": [],
   "source": [
    "import numpy as np\n",
    "import pandas as pd\n",
    "import matplotlib\n",
    "import matplotlib.pyplot as plt\n",
    " \n",
    "d = pd.read_csv(\"\")\n",
    " \n",
    "figure = str(sys.argv[1])[:-3] + \"jpg\"\n",
    "plt.figure(1, figsize = (12, 9))\n",
    "plt.pcolormesh(d['x'], d['y'], d['out'], cmap = plt.cm.hot)\n",
    "plt.axis([d[0].min(), d[0].max(), d[1].min(), d[1].max()])\n",
    "plt.colorbar()\n",
    "plt.savefig(figure)"
   ]
  }
 ],
 "metadata": {
  "kernelspec": {
   "display_name": "Python 2",
   "language": "python",
   "name": "python2"
  },
  "language_info": {
   "codemirror_mode": {
    "name": "ipython",
    "version": 2
   },
   "file_extension": ".py",
   "mimetype": "text/x-python",
   "name": "python",
   "nbconvert_exporter": "python",
   "pygments_lexer": "ipython2",
   "version": "2.7.9"
  },
  "name": "2015-12-08-205053.ipynb"
 },
 "nbformat": 4,
 "nbformat_minor": 0
}
